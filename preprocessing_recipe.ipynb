{
 "cells": [
  {
   "cell_type": "code",
   "execution_count": 2,
   "id": "4ce78c3d-b1ec-4c5c-8da4-e7198f9840a8",
   "metadata": {},
   "outputs": [],
   "source": [
    "import numpy as np\n",
    "import pandas as pd"
   ]
  },
  {
   "cell_type": "code",
   "execution_count": 3,
   "id": "08c3ca51-aa51-4860-9098-2fc95f3a9fcf",
   "metadata": {},
   "outputs": [
    {
     "name": "stdout",
     "output_type": "stream",
     "text": [
      "(522517, 28)\n"
     ]
    },
    {
     "data": {
      "text/html": [
       "<div>\n",
       "<style scoped>\n",
       "    .dataframe tbody tr th:only-of-type {\n",
       "        vertical-align: middle;\n",
       "    }\n",
       "\n",
       "    .dataframe tbody tr th {\n",
       "        vertical-align: top;\n",
       "    }\n",
       "\n",
       "    .dataframe thead th {\n",
       "        text-align: right;\n",
       "    }\n",
       "</style>\n",
       "<table border=\"1\" class=\"dataframe\">\n",
       "  <thead>\n",
       "    <tr style=\"text-align: right;\">\n",
       "      <th></th>\n",
       "      <th>RecipeId</th>\n",
       "      <th>Name</th>\n",
       "      <th>AuthorId</th>\n",
       "      <th>AuthorName</th>\n",
       "      <th>CookTime</th>\n",
       "      <th>PrepTime</th>\n",
       "      <th>TotalTime</th>\n",
       "      <th>DatePublished</th>\n",
       "      <th>Description</th>\n",
       "      <th>Images</th>\n",
       "      <th>...</th>\n",
       "      <th>SaturatedFatContent</th>\n",
       "      <th>CholesterolContent</th>\n",
       "      <th>SodiumContent</th>\n",
       "      <th>CarbohydrateContent</th>\n",
       "      <th>FiberContent</th>\n",
       "      <th>SugarContent</th>\n",
       "      <th>ProteinContent</th>\n",
       "      <th>RecipeServings</th>\n",
       "      <th>RecipeYield</th>\n",
       "      <th>RecipeInstructions</th>\n",
       "    </tr>\n",
       "  </thead>\n",
       "  <tbody>\n",
       "    <tr>\n",
       "      <th>0</th>\n",
       "      <td>38</td>\n",
       "      <td>Low-Fat Berry Blue Frozen Dessert</td>\n",
       "      <td>1533</td>\n",
       "      <td>Dancer</td>\n",
       "      <td>PT24H</td>\n",
       "      <td>PT45M</td>\n",
       "      <td>PT24H45M</td>\n",
       "      <td>1999-08-09T21:46:00Z</td>\n",
       "      <td>Make and share this Low-Fat Berry Blue Frozen ...</td>\n",
       "      <td>c(\"https://img.sndimg.com/food/image/upload/w_...</td>\n",
       "      <td>...</td>\n",
       "      <td>1.3</td>\n",
       "      <td>8.0</td>\n",
       "      <td>29.8</td>\n",
       "      <td>37.1</td>\n",
       "      <td>3.6</td>\n",
       "      <td>30.2</td>\n",
       "      <td>3.2</td>\n",
       "      <td>4.0</td>\n",
       "      <td>NaN</td>\n",
       "      <td>c(\"Toss 2 cups berries with sugar.\", \"Let stan...</td>\n",
       "    </tr>\n",
       "    <tr>\n",
       "      <th>1</th>\n",
       "      <td>39</td>\n",
       "      <td>Biryani</td>\n",
       "      <td>1567</td>\n",
       "      <td>elly9812</td>\n",
       "      <td>PT25M</td>\n",
       "      <td>PT4H</td>\n",
       "      <td>PT4H25M</td>\n",
       "      <td>1999-08-29T13:12:00Z</td>\n",
       "      <td>Make and share this Biryani recipe from Food.com.</td>\n",
       "      <td>c(\"https://img.sndimg.com/food/image/upload/w_...</td>\n",
       "      <td>...</td>\n",
       "      <td>16.6</td>\n",
       "      <td>372.8</td>\n",
       "      <td>368.4</td>\n",
       "      <td>84.4</td>\n",
       "      <td>9.0</td>\n",
       "      <td>20.4</td>\n",
       "      <td>63.4</td>\n",
       "      <td>6.0</td>\n",
       "      <td>NaN</td>\n",
       "      <td>c(\"Soak saffron in warm milk for 5 minutes and...</td>\n",
       "    </tr>\n",
       "  </tbody>\n",
       "</table>\n",
       "<p>2 rows × 28 columns</p>\n",
       "</div>"
      ],
      "text/plain": [
       "   RecipeId                               Name  AuthorId AuthorName CookTime  \\\n",
       "0        38  Low-Fat Berry Blue Frozen Dessert      1533     Dancer    PT24H   \n",
       "1        39                            Biryani      1567   elly9812    PT25M   \n",
       "\n",
       "  PrepTime TotalTime         DatePublished  \\\n",
       "0    PT45M  PT24H45M  1999-08-09T21:46:00Z   \n",
       "1     PT4H   PT4H25M  1999-08-29T13:12:00Z   \n",
       "\n",
       "                                         Description  \\\n",
       "0  Make and share this Low-Fat Berry Blue Frozen ...   \n",
       "1  Make and share this Biryani recipe from Food.com.   \n",
       "\n",
       "                                              Images  ... SaturatedFatContent  \\\n",
       "0  c(\"https://img.sndimg.com/food/image/upload/w_...  ...                 1.3   \n",
       "1  c(\"https://img.sndimg.com/food/image/upload/w_...  ...                16.6   \n",
       "\n",
       "  CholesterolContent SodiumContent CarbohydrateContent  FiberContent  \\\n",
       "0                8.0          29.8                37.1           3.6   \n",
       "1              372.8         368.4                84.4           9.0   \n",
       "\n",
       "   SugarContent  ProteinContent  RecipeServings  RecipeYield  \\\n",
       "0          30.2             3.2             4.0          NaN   \n",
       "1          20.4            63.4             6.0          NaN   \n",
       "\n",
       "                                  RecipeInstructions  \n",
       "0  c(\"Toss 2 cups berries with sugar.\", \"Let stan...  \n",
       "1  c(\"Soak saffron in warm milk for 5 minutes and...  \n",
       "\n",
       "[2 rows x 28 columns]"
      ]
     },
     "execution_count": 3,
     "metadata": {},
     "output_type": "execute_result"
    }
   ],
   "source": [
    "recipes = pd.read_csv(\"recipes.csv\", engine = \"python\", on_bad_lines = \"skip\")\n",
    "print(recipes.shape)\n",
    "recipes.head(2)"
   ]
  },
  {
   "cell_type": "code",
   "execution_count": 4,
   "id": "6dad6886-d9fc-4f99-b6cf-a5b99b04ec45",
   "metadata": {},
   "outputs": [
    {
     "name": "stdout",
     "output_type": "stream",
     "text": [
      "Index(['RecipeId', 'Name', 'AuthorId', 'AuthorName', 'CookTime', 'PrepTime',\n",
      "       'TotalTime', 'DatePublished', 'Description', 'Images', 'RecipeCategory',\n",
      "       'Keywords', 'RecipeIngredientQuantities', 'RecipeIngredientParts',\n",
      "       'AggregatedRating', 'ReviewCount', 'Calories', 'FatContent',\n",
      "       'SaturatedFatContent', 'CholesterolContent', 'SodiumContent',\n",
      "       'CarbohydrateContent', 'FiberContent', 'SugarContent', 'ProteinContent',\n",
      "       'RecipeServings', 'RecipeYield', 'RecipeInstructions'],\n",
      "      dtype='object')\n"
     ]
    }
   ],
   "source": [
    "print(recipes.columns)"
   ]
  },
  {
   "cell_type": "code",
   "execution_count": 5,
   "id": "506e939e-478f-4b0e-b5be-fe3b09af0a5f",
   "metadata": {},
   "outputs": [
    {
     "name": "stdout",
     "output_type": "stream",
     "text": [
      "<class 'pandas.core.frame.DataFrame'>\n",
      "RangeIndex: 522517 entries, 0 to 522516\n",
      "Data columns (total 28 columns):\n",
      " #   Column                      Non-Null Count   Dtype  \n",
      "---  ------                      --------------   -----  \n",
      " 0   RecipeId                    522517 non-null  int64  \n",
      " 1   Name                        522517 non-null  object \n",
      " 2   AuthorId                    522517 non-null  int64  \n",
      " 3   AuthorName                  522517 non-null  object \n",
      " 4   CookTime                    439972 non-null  object \n",
      " 5   PrepTime                    522517 non-null  object \n",
      " 6   TotalTime                   522517 non-null  object \n",
      " 7   DatePublished               522517 non-null  object \n",
      " 8   Description                 522512 non-null  object \n",
      " 9   Images                      522516 non-null  object \n",
      " 10  RecipeCategory              521766 non-null  object \n",
      " 11  Keywords                    505280 non-null  object \n",
      " 12  RecipeIngredientQuantities  522514 non-null  object \n",
      " 13  RecipeIngredientParts       522517 non-null  object \n",
      " 14  AggregatedRating            269294 non-null  float64\n",
      " 15  ReviewCount                 275028 non-null  float64\n",
      " 16  Calories                    522517 non-null  float64\n",
      " 17  FatContent                  522517 non-null  float64\n",
      " 18  SaturatedFatContent         522517 non-null  float64\n",
      " 19  CholesterolContent          522517 non-null  float64\n",
      " 20  SodiumContent               522517 non-null  float64\n",
      " 21  CarbohydrateContent         522517 non-null  float64\n",
      " 22  FiberContent                522517 non-null  float64\n",
      " 23  SugarContent                522517 non-null  float64\n",
      " 24  ProteinContent              522517 non-null  float64\n",
      " 25  RecipeServings              339606 non-null  float64\n",
      " 26  RecipeYield                 174446 non-null  object \n",
      " 27  RecipeInstructions          522517 non-null  object \n",
      "dtypes: float64(12), int64(2), object(14)\n",
      "memory usage: 111.6+ MB\n"
     ]
    }
   ],
   "source": [
    "#to view information about the data such as no. of columns and rows, no. of non-null values and the type\n",
    "recipes.info()"
   ]
  },
  {
   "cell_type": "code",
   "execution_count": 6,
   "id": "fa984ff5-0ac5-4822-97fd-e14e630af5c3",
   "metadata": {},
   "outputs": [
    {
     "name": "stdout",
     "output_type": "stream",
     "text": [
      "RecipeId                                                                     49\n",
      "Name                                                   Chicken Breasts Lombardi\n",
      "AuthorId                                                                 174711\n",
      "AuthorName                                                     Queen Dragon Mom\n",
      "CookTime                                                                  PT30M\n",
      "PrepTime                                                                  PT45M\n",
      "TotalTime                                                               PT1H15M\n",
      "DatePublished                                              1999-08-14T19:58:00Z\n",
      "Description                   Make and share this Chicken Breasts Lombardi r...\n",
      "Images                        c(\"https://img.sndimg.com/food/image/upload/w_...\n",
      "RecipeCategory                                                   Chicken Breast\n",
      "Keywords                      c(\"Chicken\", \"Poultry\", \"Meat\", \"European\", \"V...\n",
      "RecipeIngredientQuantities    c(\"2\", \"2\", \"12\", \"1/2\", \"1/3\", \"3/4\", \"1/2\", ...\n",
      "RecipeIngredientParts         c(\"fresh mushrooms\", \"butter\", \"boneless skinl...\n",
      "AggregatedRating                                                            5.0\n",
      "ReviewCount                                                                21.0\n",
      "Calories                                                                  627.7\n",
      "FatContent                                                                 24.9\n",
      "SaturatedFatContent                                                        13.0\n",
      "CholesterolContent                                                        203.0\n",
      "SodiumContent                                                             848.9\n",
      "CarbohydrateContent                                                        13.7\n",
      "FiberContent                                                                0.6\n",
      "SugarContent                                                                2.0\n",
      "ProteinContent                                                             57.9\n",
      "RecipeServings                                                              6.0\n",
      "RecipeYield                                                                 NaN\n",
      "RecipeInstructions            c(\"Cook mushrooms in 2 tbsp butter in a large ...\n",
      "Name: 11, dtype: object\n"
     ]
    }
   ],
   "source": [
    "print(recipes.loc[11])"
   ]
  },
  {
   "cell_type": "code",
   "execution_count": 7,
   "id": "8e306c2a-f030-4e5e-b432-90f371c6b2fb",
   "metadata": {},
   "outputs": [],
   "source": [
    "recipes = recipes[['RecipeId', 'Name', 'CookTime', 'PrepTime',\n",
    "       'TotalTime', 'Description', 'Images', 'RecipeCategory',\n",
    "       'Keywords', 'RecipeIngredientQuantities', 'RecipeIngredientParts',\n",
    "       'AggregatedRating', 'RecipeInstructions']]"
   ]
  },
  {
   "cell_type": "code",
   "execution_count": 8,
   "id": "dcd6773a-62de-403a-9eed-68380ad20819",
   "metadata": {},
   "outputs": [
    {
     "name": "stdout",
     "output_type": "stream",
     "text": [
      "(522517, 13)\n"
     ]
    }
   ],
   "source": [
    "print(recipes.shape)"
   ]
  },
  {
   "cell_type": "code",
   "execution_count": 9,
   "id": "6a6bc842-c243-4645-9ff8-338273cbf8e3",
   "metadata": {},
   "outputs": [
    {
     "name": "stdout",
     "output_type": "stream",
     "text": [
      "<bound method DataFrame.info of         RecipeId                                              Name CookTime  \\\n",
      "0             38                 Low-Fat Berry Blue Frozen Dessert    PT24H   \n",
      "1             39                                           Biryani    PT25M   \n",
      "2             40                                     Best Lemonade     PT5M   \n",
      "3             41                    Carina's Tofu-Vegetable Kebabs    PT20M   \n",
      "4             42                                      Cabbage Soup    PT30M   \n",
      "...          ...                                               ...      ...   \n",
      "522512    541379                    Meg's Fresh Ginger Gingerbread    PT35M   \n",
      "522513    541380  Roast Prime Rib au Poivre with Mixed Peppercorns     PT3H   \n",
      "522514    541381                             Kirshwasser Ice Cream     PT3H   \n",
      "522515    541382          Quick & Easy Asian Cucumber Salmon Rolls      NaN   \n",
      "522516    541383                           Spicy Baked Scotch Eggs    PT25M   \n",
      "\n",
      "       PrepTime TotalTime                                        Description  \\\n",
      "0         PT45M  PT24H45M  Make and share this Low-Fat Berry Blue Frozen ...   \n",
      "1          PT4H   PT4H25M  Make and share this Biryani recipe from Food.com.   \n",
      "2         PT30M     PT35M  This is from one of my  first Good House Keepi...   \n",
      "3         PT24H  PT24H20M  This dish is best prepared a day in advance to...   \n",
      "4         PT20M     PT50M  Make and share this Cabbage Soup recipe from F...   \n",
      "...         ...       ...                                                ...   \n",
      "522512     PT1H   PT1H35M  Make and share this Meg's Fresh Ginger Gingerb...   \n",
      "522513    PT30M   PT3H30M  White, black, green, and pink peppercorns add ...   \n",
      "522514     PT1H      PT4H  Make and share this Kirshwasser Ice Cream reci...   \n",
      "522515    PT15M     PT15M  Extremely quick and easy to make, these are gr...   \n",
      "522516    PT15M     PT40M  Great way to have hard boiled eggs and crispy,...   \n",
      "\n",
      "                                                   Images   RecipeCategory  \\\n",
      "0       c(\"https://img.sndimg.com/food/image/upload/w_...  Frozen Desserts   \n",
      "1       c(\"https://img.sndimg.com/food/image/upload/w_...   Chicken Breast   \n",
      "2       c(\"https://img.sndimg.com/food/image/upload/w_...        Beverages   \n",
      "3       c(\"https://img.sndimg.com/food/image/upload/w_...         Soy/Tofu   \n",
      "4       \"https://img.sndimg.com/food/image/upload/w_55...        Vegetable   \n",
      "...                                                   ...              ...   \n",
      "522512                                       character(0)          Dessert   \n",
      "522513  \"https://img.sndimg.com/food/image/upload/w_55...   Very Low Carbs   \n",
      "522514                                       character(0)        Ice Cream   \n",
      "522515  \"https://img.sndimg.com/food/image/upload/w_55...         Canadian   \n",
      "522516                                       character(0)        Breakfast   \n",
      "\n",
      "                                                 Keywords  \\\n",
      "0       c(\"Dessert\", \"Low Protein\", \"Low Cholesterol\",...   \n",
      "1       c(\"Chicken Thigh & Leg\", \"Chicken\", \"Poultry\",...   \n",
      "2       c(\"Low Protein\", \"Low Cholesterol\", \"Healthy\",...   \n",
      "3       c(\"Beans\", \"Vegetable\", \"Low Cholesterol\", \"We...   \n",
      "4       c(\"Low Protein\", \"Vegan\", \"Low Cholesterol\", \"...   \n",
      "...                                                   ...   \n",
      "522512                                        \"< 4 Hours\"   \n",
      "522513       c(\"High Protein\", \"High In...\", \"< 4 Hours\")   \n",
      "522514                          c(\"Dessert\", \"< 4 Hours\")   \n",
      "522515                             c(\"< 15 Mins\", \"Easy\")   \n",
      "522516                                        \"< 60 Mins\"   \n",
      "\n",
      "                               RecipeIngredientQuantities  \\\n",
      "0                                 c(\"4\", \"1/4\", \"1\", \"1\")   \n",
      "1       c(\"1\", \"4\", \"2\", \"2\", \"8\", \"1/4\", \"8\", \"1/2\", ...   \n",
      "2                 c(\"1 1/2\", \"1\", NA, \"1 1/2\", NA, \"3/4\")   \n",
      "3       c(\"12\", \"1\", \"2\", \"1\", \"10\", \"1\", \"3\", \"2\", \"2...   \n",
      "4                             c(\"46\", \"4\", \"1\", \"2\", \"1\")   \n",
      "...                                                   ...   \n",
      "522512  c(\"3\", \"1/2\", \"1/2\", \"1/4\", \"1/4\", \"1\", \"1/4\",...   \n",
      "522513       c(\"9\", \"2\", \"4\", \"2\", \"1/3\", \"3 1/2\", \"1/3\")   \n",
      "522514                c(\"3\", \"3\", \"1/2\", \"1/2\", \"2\", \"2\")   \n",
      "522515           c(\"4\", \"1/4\", \"1\", \"1/2\", \"8 1/2\", \"40\")   \n",
      "522516  c(\"6 -7\", \"1\", \"1/4\", \"1\", \"2\", \"1/2\", \"1\", \"1...   \n",
      "\n",
      "                                    RecipeIngredientParts  AggregatedRating  \\\n",
      "0       c(\"blueberries\", \"granulated sugar\", \"vanilla ...               4.5   \n",
      "1       c(\"saffron\", \"milk\", \"hot green chili peppers\"...               3.0   \n",
      "2       c(\"sugar\", \"lemons, rind of\", \"lemon, zest of\"...               4.5   \n",
      "3       c(\"extra firm tofu\", \"eggplant\", \"zucchini\", \"...               4.5   \n",
      "4       c(\"plain tomato juice\", \"cabbage\", \"onion\", \"c...               4.5   \n",
      "...                                                   ...               ...   \n",
      "522512  c(\"fresh ginger\", \"unsalted butter\", \"dark bro...               NaN   \n",
      "522513  c(\"Dijon mustard\", \"garlic\", \"peppercorns\", \"s...               NaN   \n",
      "522514  c(\"half-and-half\", \"heavy cream\", \"brandy\", \"s...               NaN   \n",
      "522515  c(\"wasabi paste\", \"dill\", \"English cucumber\", ...               NaN   \n",
      "522516  c(\"hard-boiled eggs\", \"breakfast sausage\", \"pa...               NaN   \n",
      "\n",
      "                                       RecipeInstructions  \n",
      "0       c(\"Toss 2 cups berries with sugar.\", \"Let stan...  \n",
      "1       c(\"Soak saffron in warm milk for 5 minutes and...  \n",
      "2       c(\"Into a 1 quart Jar with tight fitting lid, ...  \n",
      "3       c(\"Drain the tofu, carefully squeezing out exc...  \n",
      "4       c(\"Mix everything together and bring to a boil...  \n",
      "...                                                   ...  \n",
      "522512  c(\"Preheat oven to 350&deg;F Grease an 8x8 cak...  \n",
      "522513  c(\"Position rack in center of oven and preheat...  \n",
      "522514  c(\"heat half and half and heavy cream to a sim...  \n",
      "522515  c(\"In a small bowl, combine mayo and wasabi pa...  \n",
      "522516  c(\"Mix sausage, panko, egg yolk and Wocestersh...  \n",
      "\n",
      "[522517 rows x 13 columns]>\n"
     ]
    }
   ],
   "source": [
    "print(recipes.info)"
   ]
  },
  {
   "cell_type": "code",
   "execution_count": 10,
   "id": "ca6d893e-b51c-4824-b007-e6c0cd47f36c",
   "metadata": {},
   "outputs": [
    {
     "data": {
      "text/plain": [
       "RecipeId                           0\n",
       "Name                               0\n",
       "CookTime                       82545\n",
       "PrepTime                           0\n",
       "TotalTime                          0\n",
       "Description                        5\n",
       "Images                             1\n",
       "RecipeCategory                   751\n",
       "Keywords                       17237\n",
       "RecipeIngredientQuantities         3\n",
       "RecipeIngredientParts              0\n",
       "AggregatedRating              253223\n",
       "RecipeInstructions                 0\n",
       "dtype: int64"
      ]
     },
     "execution_count": 10,
     "metadata": {},
     "output_type": "execute_result"
    }
   ],
   "source": [
    "#check the number of missing values in each column\n",
    "recipes.isnull().sum()"
   ]
  },
  {
   "cell_type": "code",
   "execution_count": 11,
   "id": "f81ec229-de5b-4365-81de-e7fca59bcf7e",
   "metadata": {},
   "outputs": [
    {
     "name": "stdout",
     "output_type": "stream",
     "text": [
      "Description samples:\n",
      "Description\n",
      "Make and share this Banana Bread recipe from Food.com.                                                                                                                                                                                  96\n",
      "Make and share this Beef Stroganoff recipe from Food.com.                                                                                                                                                                               71\n",
      "Make and share this Chocolate Chip Cookies recipe from Food.com.                                                                                                                                                                        59\n",
      "Make and share this Apple Crisp recipe from Food.com.                                                                                                                                                                                   57\n",
      "Make and share this Taco Soup recipe from Food.com.                                                                                                                                                                                     56\n",
      "Make and share this Guacamole recipe from Food.com.                                                                                                                                                                                     54\n",
      "Make and share this Sweet Potato Casserole recipe from Food.com.                                                                                                                                                                        51\n",
      "Make and share this Peanut Butter Cookies recipe from Food.com.                                                                                                                                                                         49\n",
      "Make and share this Zucchini Bread recipe from Food.com.                                                                                                                                                                                49\n",
      "On one of my many cookbook /recipe searches , I found a cookbook called Americana Cookery. I liked the name , but I loved some of the recipes in it even more. Thought I might place some of them here for safe keeping and to share    49\n",
      "Make and share this Chicken Enchiladas recipe from Food.com.                                                                                                                                                                            48\n",
      "Make and share this Chili recipe from Food.com.                                                                                                                                                                                         47\n",
      "Make and share this Broccoli Salad recipe from Food.com.                                                                                                                                                                                47\n",
      "Make and share this Meatloaf recipe from Food.com.                                                                                                                                                                                      46\n",
      "Make and share this Pumpkin Bread recipe from Food.com.                                                                                                                                                                                 45\n",
      "Make and share this Stuffed Mushrooms recipe from Food.com.                                                                                                                                                                             44\n",
      "Make and share this Carrot Cake recipe from Food.com.                                                                                                                                                                                   43\n",
      "Make and share this Shepherd's Pie recipe from Food.com.                                                                                                                                                                                42\n",
      "Make and share this Taco Salad recipe from Food.com.                                                                                                                                                                                    41\n",
      "Make and share this Potato Soup recipe from Food.com.                                                                                                                                                                                   40\n",
      "Name: count, dtype: int64\n",
      "\n",
      "RecipeCategory samples:\n",
      "RecipeCategory\n",
      "Dessert           62072\n",
      "Lunch/Snacks      32586\n",
      "One Dish Meal     31345\n",
      "Vegetable         27231\n",
      "Breakfast         21101\n",
      "Beverages         16076\n",
      "Chicken           13249\n",
      "Meat              13131\n",
      "Breads            12804\n",
      "Pork              12603\n",
      "Sauces            12166\n",
      "Chicken Breast    11282\n",
      "Potato            10870\n",
      "Quick Breads      10387\n",
      "< 60 Mins          9719\n",
      "< 30 Mins          9020\n",
      "Cheese             8462\n",
      "Pie                7775\n",
      "Bar Cookie         7029\n",
      "Low Protein        6663\n",
      "Name: count, dtype: int64\n",
      "\n",
      "Keywords samples:\n",
      "Keywords\n",
      "NaN                                                                    17237\n",
      "\"Easy\"                                                                 12369\n",
      "c(\"< 15 Mins\", \"Easy\")                                                  9828\n",
      "\"< 60 Mins\"                                                             9789\n",
      "\"< 4 Hours\"                                                             7064\n",
      "\"< 30 Mins\"                                                             6215\n",
      "c(\"< 30 Mins\", \"Easy\")                                                  5690\n",
      "c(\"< 60 Mins\", \"Easy\")                                                  5040\n",
      "c(\"< 4 Hours\", \"Easy\")                                                  3234\n",
      "\"< 15 Mins\"                                                             2763\n",
      "c(\"Low Protein\", \"Low Cholesterol\", \"Healthy\", \"< 15 Mins\", \"Easy\")     1447\n",
      "c(\"Meat\", \"< 4 Hours\")                                                  1403\n",
      "c(\"Meat\", \"< 60 Mins\")                                                  1384\n",
      "c(\"Vegetable\", \"< 60 Mins\")                                             1134\n",
      "c(\"Low Protein\", \"< 15 Mins\", \"Easy\")                                   1080\n",
      "c(\"< 60 Mins\", \"For Large Groups\")                                      1079\n",
      "c(\"< 15 Mins\", \"Beginner Cook\", \"Easy\")                                 1062\n",
      "c(\"Low Cholesterol\", \"Healthy\", \"< 15 Mins\", \"Easy\")                    1033\n",
      "c(\"Dessert\", \"< 4 Hours\")                                               1032\n",
      "c(\"< 60 Mins\", \"Oven\")                                                   983\n",
      "Name: count, dtype: int64\n",
      "\n",
      "Images samples:\n",
      "Images\n",
      "character(0)                                                                                                                                                                                                                                                                                                                           356620\n",
      "\"https://img.sndimg.com/food/image/upload/w_555,h_416,c_fit,fl_progressive,q_95/v1/img/submissions/recipe/1802649943/NwpJL4MLRrSWd0jwtfsi_EC_Nutella%20cinnamon%20muffins.jpg\"                                                                                                                                                              2\n",
      "\"https://img.sndimg.com/food/image/upload/w_555,h_416,c_fit,fl_progressive,q_95/v1/img/recipes/rz/.3/62/34/5/HCGEXfRsC640NpSnbUUg_Zucchini%20cupcake%20chocolate1.jpg\"                                                                                                                                                                      2\n",
      "\"https://img.sndimg.com/food/image/upload/w_555,h_416,c_fit,fl_progressive,q_95/v1/img/recipes/rz/.3/66/87/0/iBv1u6beSyuOmxCOpmIU_IMG_1770.JPG\"                                                                                                                                                                                             2\n",
      "c(\"https://img.sndimg.com/food/image/upload/w_555,h_416,c_fit,fl_progressive,q_95/v1/img/recipes/rz/.3/67/61/6/2Yp5JOOZQaCI6Vpb1d6v_Irish%20Cream%20Cake.JPG\", \"https://img.sndimg.com/food/image/upload/w_555,h_416,c_fit,fl_progressive,q_95/v1/img/recipes/rz/.3/67/61/6/RzUAr0HITYCv57J3huKI_Irish%20Cream%20Cake%20slice.JPG\")         2\n",
      "\"https://img.sndimg.com/food/image/upload/w_555,h_416,c_fit,fl_progressive,q_95/v1/img/recipes/rz/.3/67/85/0/8Xgg1bgMRCCl8wmrLaM4_codfishYoghurtPotatoes.jpg\"                                                                                                                                                                               2\n",
      "\"https://img.sndimg.com/food/image/upload/w_555,h_416,c_fit,fl_progressive,q_95/v1/img/submissions/recipe/328048/UA5Dcq1TuWIvkPQGEnaF_19665238_10213729935786773_1392967516122563224_n.jpg\"                                                                                                                                                 2\n",
      "\"https://img.sndimg.com/food/image/upload/w_555,h_416,c_fit,fl_progressive,q_95/v1/img/recipes/rz/.3/72/40/0/pSEy2LTJesYI17JwWwrQ_20171120_134917.jpg\"                                                                                                                                                                                      2\n",
      "\"https://img.sndimg.com/food/image/upload/w_555,h_416,c_fit,fl_progressive,q_95/v1/img/recipes/rz/.3/73/15/6/DqL4GkoFRwSDtzfGPXiy_034.JPG\"                                                                                                                                                                                                  2\n",
      "\"https://img.sndimg.com/food/image/upload/w_555,h_416,c_fit,fl_progressive,q_95/v1/img/submissions/recipe/2001004241/cf66FkvYSI275DCx07kF_Chocolate-Lava-Cake-with-Caramel-3_Fotor-1024x768.jpg\"                                                                                                                                            1\n",
      "Name: count, dtype: int64\n"
     ]
    }
   ],
   "source": [
    "print(\"Description samples:\")\n",
    "print(recipes[\"Description\"].value_counts(dropna=False).head(20))\n",
    "#use value.counts(dropna=false) -> helps spot unusual placeholders like character(0), [], none etc that arent true NaN but means missing\n",
    "print(\"\\nRecipeCategory samples:\")\n",
    "print(recipes[\"RecipeCategory\"].value_counts(dropna=False).head(20))\n",
    "\n",
    "print(\"\\nKeywords samples:\")\n",
    "print(recipes[\"Keywords\"].value_counts(dropna=False).head(20))\n",
    "\n",
    "print(\"\\nImages samples:\")\n",
    "print(recipes[\"Images\"].value_counts(dropna=False).head(10))"
   ]
  },
  {
   "cell_type": "code",
   "execution_count": 13,
   "id": "d9ba7398-b723-4a4e-aeaa-11e0ae7745c2",
   "metadata": {},
   "outputs": [],
   "source": [
    "import ast  # safely parse strings that look like lists\n",
    "\n",
    "# 1. Clean Images from character(0) no image which origninates from R which means empty vector t -> NAN \n",
    "recipes['Images'] = recipes['Images'].replace('character(0)', np.nan)\n",
    "\n",
    "# Convert strings like c(\"url1\", \"url2\") → Python lists\n",
    "def parse_r_list(x):\n",
    "    if isinstance(x, str) and x.startswith('c('):\n",
    "        # Remove c( ) and parse safely\n",
    "        x = x.replace('c(', '[').replace(')', ']')\n",
    "        try:\n",
    "            return ast.literal_eval(x)\n",
    "        except:\n",
    "            return [x]  # fallback\n",
    "    return x\n",
    "\n",
    "recipes['Images'] = recipes['Images'].apply(parse_r_list)\n",
    "\n",
    "# 2. Clean Keywords\n",
    "recipes['Keywords'] = recipes['Keywords'].apply(parse_r_list)"
   ]
  },
  {
   "cell_type": "code",
   "execution_count": 14,
   "id": "c1c2fe8a-648c-4149-b592-1f9fe7001062",
   "metadata": {},
   "outputs": [
    {
     "data": {
      "text/html": [
       "<div>\n",
       "<style scoped>\n",
       "    .dataframe tbody tr th:only-of-type {\n",
       "        vertical-align: middle;\n",
       "    }\n",
       "\n",
       "    .dataframe tbody tr th {\n",
       "        vertical-align: top;\n",
       "    }\n",
       "\n",
       "    .dataframe thead th {\n",
       "        text-align: right;\n",
       "    }\n",
       "</style>\n",
       "<table border=\"1\" class=\"dataframe\">\n",
       "  <thead>\n",
       "    <tr style=\"text-align: right;\">\n",
       "      <th></th>\n",
       "      <th>RecipeId</th>\n",
       "      <th>Name</th>\n",
       "      <th>CookTime</th>\n",
       "      <th>PrepTime</th>\n",
       "      <th>TotalTime</th>\n",
       "      <th>Description</th>\n",
       "      <th>Images</th>\n",
       "      <th>RecipeCategory</th>\n",
       "      <th>Keywords</th>\n",
       "      <th>RecipeIngredientQuantities</th>\n",
       "      <th>RecipeIngredientParts</th>\n",
       "      <th>AggregatedRating</th>\n",
       "      <th>RecipeInstructions</th>\n",
       "    </tr>\n",
       "  </thead>\n",
       "  <tbody>\n",
       "  </tbody>\n",
       "</table>\n",
       "</div>"
      ],
      "text/plain": [
       "Empty DataFrame\n",
       "Columns: [RecipeId, Name, CookTime, PrepTime, TotalTime, Description, Images, RecipeCategory, Keywords, RecipeIngredientQuantities, RecipeIngredientParts, AggregatedRating, RecipeInstructions]\n",
       "Index: []"
      ]
     },
     "execution_count": 14,
     "metadata": {},
     "output_type": "execute_result"
    }
   ],
   "source": [
    "#return all the rows where the images column has character(0)\n",
    "recipes[recipes[\"Images\"].str.contains(\"character\\\\(0\\\\)\", na=False)]"
   ]
  },
  {
   "cell_type": "code",
   "execution_count": 15,
   "id": "2337e8da-8dff-47c8-b0d9-196e9d109ed7",
   "metadata": {},
   "outputs": [
    {
     "data": {
      "text/plain": [
       "RecipeId                           0\n",
       "Name                               0\n",
       "CookTime                       82545\n",
       "PrepTime                           0\n",
       "TotalTime                          0\n",
       "Description                        5\n",
       "Images                        356621\n",
       "RecipeCategory                   751\n",
       "Keywords                       17237\n",
       "RecipeIngredientQuantities         3\n",
       "RecipeIngredientParts              0\n",
       "AggregatedRating              253223\n",
       "RecipeInstructions                 0\n",
       "dtype: int64"
      ]
     },
     "execution_count": 15,
     "metadata": {},
     "output_type": "execute_result"
    }
   ],
   "source": [
    "#checking for missing values after parsing since we converted character(0) to nan and c() to lists\n",
    "recipes.isnull().sum()"
   ]
  },
  {
   "cell_type": "code",
   "execution_count": 16,
   "id": "df3f4495-54ce-4514-b1eb-33c43dde805d",
   "metadata": {},
   "outputs": [
    {
     "data": {
      "text/plain": [
       "0    [Dessert, Low Protein, Low Cholesterol, Health...\n",
       "1    [Chicken Thigh & Leg, Chicken, Poultry, Meat, ...\n",
       "2    [Low Protein, Low Cholesterol, Healthy, Summer...\n",
       "3    [Beans, Vegetable, Low Cholesterol, Weeknight,...\n",
       "4    [Low Protein, Vegan, Low Cholesterol, Healthy,...\n",
       "5           [Dessert, Weeknight, Stove Top, < 4 Hours]\n",
       "6                           [Poultry, Meat, < 60 Mins]\n",
       "7       [Dessert, Healthy, Weeknight, Oven, < 4 Hours]\n",
       "8                 [Thai, Asian, Free Of..., < 30 Mins]\n",
       "9    [Cookie & Brownie, Fruit, Nuts, Weeknight, Ove...\n",
       "Name: Keywords, dtype: object"
      ]
     },
     "execution_count": 16,
     "metadata": {},
     "output_type": "execute_result"
    }
   ],
   "source": [
    "#check if the keywords were parsed correctly and converted to lists\n",
    "recipes[\"Keywords\"].head(10)"
   ]
  },
  {
   "cell_type": "code",
   "execution_count": 17,
   "id": "45031e99-5aab-44e2-b531-ef64f23c84ef",
   "metadata": {},
   "outputs": [
    {
     "data": {
      "text/plain": [
       "list"
      ]
     },
     "execution_count": 17,
     "metadata": {},
     "output_type": "execute_result"
    }
   ],
   "source": [
    "#checking the type to confirm its a list\n",
    "type(recipes[\"Keywords\"].iloc[0])"
   ]
  },
  {
   "cell_type": "code",
   "execution_count": 18,
   "id": "b187d209-fb72-4a8f-9b90-7c6847e47775",
   "metadata": {},
   "outputs": [
    {
     "data": {
      "text/plain": [
       "np.int64(17237)"
      ]
     },
     "execution_count": 18,
     "metadata": {},
     "output_type": "execute_result"
    }
   ],
   "source": [
    "#looking for missing values\n",
    "recipes[\"Keywords\"].isna().sum()"
   ]
  },
  {
   "cell_type": "code",
   "execution_count": 4,
   "id": "387d91fc-5f66-4feb-9500-ecf4c2b51439",
   "metadata": {},
   "outputs": [
    {
     "name": "stdout",
     "output_type": "stream",
     "text": [
      "\n",
      "--- Description ---\n",
      "Description\n",
      "Make and share this Banana Bread recipe from Food.com.                                                                                                                                                                                  96\n",
      "Make and share this Beef Stroganoff recipe from Food.com.                                                                                                                                                                               71\n",
      "Make and share this Chocolate Chip Cookies recipe from Food.com.                                                                                                                                                                        59\n",
      "Make and share this Apple Crisp recipe from Food.com.                                                                                                                                                                                   57\n",
      "Make and share this Taco Soup recipe from Food.com.                                                                                                                                                                                     56\n",
      "Make and share this Guacamole recipe from Food.com.                                                                                                                                                                                     54\n",
      "Make and share this Sweet Potato Casserole recipe from Food.com.                                                                                                                                                                        51\n",
      "Make and share this Peanut Butter Cookies recipe from Food.com.                                                                                                                                                                         49\n",
      "Make and share this Zucchini Bread recipe from Food.com.                                                                                                                                                                                49\n",
      "On one of my many cookbook /recipe searches , I found a cookbook called Americana Cookery. I liked the name , but I loved some of the recipes in it even more. Thought I might place some of them here for safe keeping and to share    49\n",
      "Name: count, dtype: int64\n",
      "\n",
      "--- Images ---\n",
      "Images\n",
      "character(0)                                                                                                                                                                                                                                                                                                                           356620\n",
      "\"https://img.sndimg.com/food/image/upload/w_555,h_416,c_fit,fl_progressive,q_95/v1/img/submissions/recipe/1802649943/NwpJL4MLRrSWd0jwtfsi_EC_Nutella%20cinnamon%20muffins.jpg\"                                                                                                                                                              2\n",
      "\"https://img.sndimg.com/food/image/upload/w_555,h_416,c_fit,fl_progressive,q_95/v1/img/recipes/rz/.3/62/34/5/HCGEXfRsC640NpSnbUUg_Zucchini%20cupcake%20chocolate1.jpg\"                                                                                                                                                                      2\n",
      "\"https://img.sndimg.com/food/image/upload/w_555,h_416,c_fit,fl_progressive,q_95/v1/img/recipes/rz/.3/66/87/0/iBv1u6beSyuOmxCOpmIU_IMG_1770.JPG\"                                                                                                                                                                                             2\n",
      "c(\"https://img.sndimg.com/food/image/upload/w_555,h_416,c_fit,fl_progressive,q_95/v1/img/recipes/rz/.3/67/61/6/2Yp5JOOZQaCI6Vpb1d6v_Irish%20Cream%20Cake.JPG\", \"https://img.sndimg.com/food/image/upload/w_555,h_416,c_fit,fl_progressive,q_95/v1/img/recipes/rz/.3/67/61/6/RzUAr0HITYCv57J3huKI_Irish%20Cream%20Cake%20slice.JPG\")         2\n",
      "\"https://img.sndimg.com/food/image/upload/w_555,h_416,c_fit,fl_progressive,q_95/v1/img/recipes/rz/.3/67/85/0/8Xgg1bgMRCCl8wmrLaM4_codfishYoghurtPotatoes.jpg\"                                                                                                                                                                               2\n",
      "\"https://img.sndimg.com/food/image/upload/w_555,h_416,c_fit,fl_progressive,q_95/v1/img/submissions/recipe/328048/UA5Dcq1TuWIvkPQGEnaF_19665238_10213729935786773_1392967516122563224_n.jpg\"                                                                                                                                                 2\n",
      "\"https://img.sndimg.com/food/image/upload/w_555,h_416,c_fit,fl_progressive,q_95/v1/img/recipes/rz/.3/72/40/0/pSEy2LTJesYI17JwWwrQ_20171120_134917.jpg\"                                                                                                                                                                                      2\n",
      "\"https://img.sndimg.com/food/image/upload/w_555,h_416,c_fit,fl_progressive,q_95/v1/img/recipes/rz/.3/73/15/6/DqL4GkoFRwSDtzfGPXiy_034.JPG\"                                                                                                                                                                                                  2\n",
      "\"https://img.sndimg.com/food/image/upload/w_555,h_416,c_fit,fl_progressive,q_95/v1/img/submissions/recipe/2001004241/cf66FkvYSI275DCx07kF_Chocolate-Lava-Cake-with-Caramel-3_Fotor-1024x768.jpg\"                                                                                                                                            1\n",
      "Name: count, dtype: int64\n",
      "\n",
      "--- RecipeCategory ---\n",
      "RecipeCategory\n",
      "Dessert          62072\n",
      "Lunch/Snacks     32586\n",
      "One Dish Meal    31345\n",
      "Vegetable        27231\n",
      "Breakfast        21101\n",
      "Beverages        16076\n",
      "Chicken          13249\n",
      "Meat             13131\n",
      "Breads           12804\n",
      "Pork             12603\n",
      "Name: count, dtype: int64\n",
      "\n",
      "--- Keywords ---\n",
      "Keywords\n",
      "NaN                       17237\n",
      "\"Easy\"                    12369\n",
      "c(\"< 15 Mins\", \"Easy\")     9828\n",
      "\"< 60 Mins\"                9789\n",
      "\"< 4 Hours\"                7064\n",
      "\"< 30 Mins\"                6215\n",
      "c(\"< 30 Mins\", \"Easy\")     5690\n",
      "c(\"< 60 Mins\", \"Easy\")     5040\n",
      "c(\"< 4 Hours\", \"Easy\")     3234\n",
      "\"< 15 Mins\"                2763\n",
      "Name: count, dtype: int64\n",
      "\n",
      "--- RecipeInstructions ---\n",
      "RecipeInstructions\n",
      "\"Blend all ingredients until smooth.\"                                                                                                                                                                                                        32\n",
      "\"Combine all ingredients.\"                                                                                                                                                                                                                   31\n",
      "\"Mix all ingredients together.\"                                                                                                                                                                                                              29\n",
      "\"Mix all ingredients.\"                                                                                                                                                                                                                       27\n",
      "\"Using a blender or Vita-Mix, process all ingredients until smooth. Pour into a glass.\"                                                                                                                                                      23\n",
      "\"Combine all ingredients and mix well.\"                                                                                                                                                                                                      23\n",
      "c(\"Assemble all the ingredients and place in a tea ball.  Note: If you don't own a tea ball, then you can put the ingredients directly in the water and then strain out later.\", \"Place tea ball in hot water and steep for 10 minutes.\")    22\n",
      "\"Combine all ingredients in blender.\"                                                                                                                                                                                                        18\n",
      "\"Blend until smooth.\"                                                                                                                                                                                                                        17\n",
      "\"Mix all together.\"                                                                                                                                                                                                                          14\n",
      "Name: count, dtype: int64\n"
     ]
    }
   ],
   "source": [
    "#check for categorical columns -> \"none\", \"nan\" \"[]\", \"character(0)\", \"missing\"\n",
    "for col in [\"Description\", \"Images\", \"RecipeCategory\", \"Keywords\", \"RecipeInstructions\"]:\n",
    "    print(f\"\\n--- {col} ---\")\n",
    "    #value_counts(dropna=False) will count how many times each unique value appears\n",
    "    print(recipes[col].value_counts(dropna=False).head(10))"
   ]
  },
  {
   "cell_type": "code",
   "execution_count": 5,
   "id": "dd6b0e2e-53cb-4fd2-8a6b-e5469b6ca2ad",
   "metadata": {},
   "outputs": [
    {
     "name": "stdout",
     "output_type": "stream",
     "text": [
      "count    269294.000000\n",
      "mean          4.632014\n",
      "std           0.641934\n",
      "min           1.000000\n",
      "25%           4.500000\n",
      "50%           5.000000\n",
      "75%           5.000000\n",
      "max           5.000000\n",
      "Name: AggregatedRating, dtype: float64\n"
     ]
    }
   ],
   "source": [
    "#check rating for strange values other than 1-5\n",
    "print(recipes[\"AggregatedRating\"].describe())"
   ]
  },
  {
   "cell_type": "code",
   "execution_count": 6,
   "id": "b3f9af55-ef9d-419d-8d7e-8f9d480452a6",
   "metadata": {},
   "outputs": [],
   "source": [
    "#fill the 5 missing values of description with no description available\n",
    "recipes[\"Description\"] = recipes[\"Description\"].fillna(\"no description available\")"
   ]
  },
  {
   "cell_type": "code",
   "execution_count": 7,
   "id": "dcf66a12-2c7e-4f28-8f6f-699def62ba01",
   "metadata": {},
   "outputs": [
    {
     "name": "stdout",
     "output_type": "stream",
     "text": [
      "0\n"
     ]
    }
   ],
   "source": [
    "print(recipes[\"Description\"].isnull().sum())"
   ]
  },
  {
   "cell_type": "code",
   "execution_count": 8,
   "id": "d0d9d3eb-2234-42a6-a4b0-24edea2616b4",
   "metadata": {},
   "outputs": [],
   "source": [
    "#filling images\n",
    "recipes[\"Images\"] = recipes[\"Images\"].fillna(\"no image available\")"
   ]
  },
  {
   "cell_type": "code",
   "execution_count": 9,
   "id": "61870cc9-22b0-4a60-9379-3b762a93cace",
   "metadata": {},
   "outputs": [
    {
     "name": "stdout",
     "output_type": "stream",
     "text": [
      "0\n"
     ]
    }
   ],
   "source": [
    "print(recipes[\"Images\"].isnull().sum())"
   ]
  },
  {
   "cell_type": "code",
   "execution_count": 10,
   "id": "62ace99c-4880-499e-a164-c45b8a5f4e5b",
   "metadata": {},
   "outputs": [],
   "source": [
    "#fill RecipeCategory\n",
    "recipes[\"RecipeCategory\"]= recipes[\"RecipeCategory\"].fillna(\"Unknow\")"
   ]
  },
  {
   "cell_type": "code",
   "execution_count": 13,
   "id": "2b4c6e80-ffb9-4ab7-ac0b-bbdf560dc545",
   "metadata": {},
   "outputs": [],
   "source": [
    "#removing the rows that has missing recipeIngredientQuantity\n",
    "recipes[\"RecipeIngredientQuantities\"].isnull().sum() # gives 3 values\n",
    "recipes = recipes.dropna(subset=[\"RecipeIngredientQuantities\"])"
   ]
  },
  {
   "cell_type": "code",
   "execution_count": 14,
   "id": "ad19077c-6e37-4d7e-af87-88682cb7ec76",
   "metadata": {},
   "outputs": [
    {
     "data": {
      "text/plain": [
       "np.int64(0)"
      ]
     },
     "execution_count": 14,
     "metadata": {},
     "output_type": "execute_result"
    }
   ],
   "source": [
    "recipes[\"RecipeIngredientQuantities\"].isnull().sum()"
   ]
  },
  {
   "cell_type": "code",
   "execution_count": 17,
   "id": "374801ac-cbae-44e3-8370-9e02c77fbf81",
   "metadata": {},
   "outputs": [
    {
     "data": {
      "text/plain": [
       "np.int64(0)"
      ]
     },
     "execution_count": 17,
     "metadata": {},
     "output_type": "execute_result"
    }
   ],
   "source": [
    "#filling keywords with empty list\n",
    "recipes.loc[:, \"Keywords\"] = recipes[\"Keywords\"].apply(\n",
    "    lambda x: x if isinstance(x, list) else []\n",
    ")\n",
    "recipes[\"Keywords\"].isnull().sum()"
   ]
  },
  {
   "cell_type": "code",
   "execution_count": 20,
   "id": "4999f992-59f7-4bff-9d6e-862a676826a6",
   "metadata": {},
   "outputs": [
    {
     "name": "stdout",
     "output_type": "stream",
     "text": [
      "Missing CookTime values after filling: 3\n"
     ]
    }
   ],
   "source": [
    "import re\n",
    "\n",
    "#parse function to convert from PT-H-M to mintues to perform operation on it \n",
    "def parse_duration(duration):\n",
    "    if pd.isna(duration):\n",
    "        return np.nan\n",
    "    match = re.match(r'PT(?:(\\d+)H)?(?:(\\d+)M)?', duration)\n",
    "    if not match:\n",
    "        return np.nan\n",
    "    hours = int(match.group(1)) if match.group(1) else 0\n",
    "    minutes = int(match.group(2)) if match.group(2) else 0\n",
    "    return hours * 60 + minutes\n",
    "\n",
    "# Make a safe copy to avoid SettingWithCopyWarning ---\n",
    "recipes = recipes.copy()\n",
    "\n",
    "# --- Step 3: Apply parsing to all three duration columns ---\n",
    "recipes.loc[:, \"PrepTime_min\"] = recipes[\"PrepTime\"].apply(parse_duration)\n",
    "recipes.loc[:, \"TotalTime_min\"] = recipes[\"TotalTime\"].apply(parse_duration)\n",
    "recipes.loc[:, \"CookTime_min\"] = recipes[\"CookTime\"].apply(parse_duration)\n",
    "\n",
    "# --- Step 4: Fill missing CookTime using (TotalTime - PrepTime) ---\n",
    "recipes.loc[:, \"CookTime_min\"] = recipes.apply(\n",
    "    lambda row: row[\"TotalTime_min\"] - row[\"PrepTime_min\"]\n",
    "    if pd.isna(row[\"CookTime_min\"]) and pd.notna(row[\"TotalTime_min\"]) and pd.notna(row[\"PrepTime_min\"])\n",
    "    else row[\"CookTime_min\"],\n",
    "    axis=1\n",
    ")\n",
    "\n",
    "# --- Step 5: Check missing CookTime values ---\n",
    "print(\"Missing CookTime values after filling:\", recipes[\"CookTime_min\"].isna().sum())\n",
    "\n"
   ]
  },
  {
   "cell_type": "code",
   "execution_count": 22,
   "id": "5a2c3eec-35e2-4f4f-abc3-28b45c606f37",
   "metadata": {},
   "outputs": [
    {
     "name": "stdout",
     "output_type": "stream",
     "text": [
      " RecipeId Name CookTime PrepTime TotalTime\n",
      "      NaN  NaN      NaN      NaN       NaN\n",
      "      NaN  NaN      NaN      NaN       NaN\n",
      "      NaN  NaN      NaN      NaN       NaN\n"
     ]
    }
   ],
   "source": [
    "# Find rows where CookTime is still missing after parsing\n",
    "missing_cook = recipes[recipes[\"CookTime_min\"].isna()]\n",
    "\n",
    "# Display the key columns for inspection\n",
    "print(missing_cook[[\"RecipeId\", \"Name\", \"CookTime\", \"PrepTime\", \"TotalTime\"]].to_string(index=False))\n",
    "\n"
   ]
  },
  {
   "cell_type": "code",
   "execution_count": 23,
   "id": "66c7c130-3e8f-44d6-9191-92bb415ed33a",
   "metadata": {},
   "outputs": [
    {
     "name": "stdout",
     "output_type": "stream",
     "text": [
      "missing CookTime values: 0\n"
     ]
    }
   ],
   "source": [
    "# Drop rows where RecipeId is NaN (those are invalid recipes)\n",
    "recipes = recipes.dropna(subset=[\"RecipeId\"]).reset_index(drop=True)\n",
    "\n",
    "print(\"missing CookTime values:\",\n",
    "      recipes[\"CookTime_min\"].isna().sum())\n"
   ]
  },
  {
   "cell_type": "code",
   "execution_count": 24,
   "id": "c3cb42fb-7906-4cd8-9b01-76312372229a",
   "metadata": {},
   "outputs": [
    {
     "name": "stdout",
     "output_type": "stream",
     "text": [
      "RecipeId                           0\n",
      "Name                               0\n",
      "AuthorId                           0\n",
      "AuthorName                         0\n",
      "CookTime                       82542\n",
      "PrepTime                           0\n",
      "TotalTime                          0\n",
      "DatePublished                      0\n",
      "Description                        0\n",
      "Images                             0\n",
      "RecipeCategory                     0\n",
      "Keywords                           0\n",
      "RecipeIngredientQuantities         0\n",
      "RecipeIngredientParts              0\n",
      "AggregatedRating              253222\n",
      "ReviewCount                   247488\n",
      "Calories                           0\n",
      "FatContent                         0\n",
      "SaturatedFatContent                0\n",
      "CholesterolContent                 0\n",
      "SodiumContent                      0\n",
      "CarbohydrateContent                0\n",
      "FiberContent                       0\n",
      "SugarContent                       0\n",
      "ProteinContent                     0\n",
      "RecipeServings                182909\n",
      "RecipeYield                   348069\n",
      "RecipeInstructions                 0\n",
      "PrepTime_min                       0\n",
      "TotalTime_min                      0\n",
      "CookTime_min                       0\n",
      "dtype: int64\n"
     ]
    }
   ],
   "source": [
    "print(recipes.isnull().sum())"
   ]
  },
  {
   "cell_type": "code",
   "execution_count": null,
   "id": "f7a96502-0d64-401d-98e5-20db3b517c8d",
   "metadata": {},
   "outputs": [],
   "source": []
  }
 ],
 "metadata": {
  "kernelspec": {
   "display_name": "Python 3 (ipykernel)",
   "language": "python",
   "name": "python3"
  },
  "language_info": {
   "codemirror_mode": {
    "name": "ipython",
    "version": 3
   },
   "file_extension": ".py",
   "mimetype": "text/x-python",
   "name": "python",
   "nbconvert_exporter": "python",
   "pygments_lexer": "ipython3",
   "version": "3.13.7"
  }
 },
 "nbformat": 4,
 "nbformat_minor": 5
}
